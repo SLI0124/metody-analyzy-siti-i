{
 "cells": [
  {
   "metadata": {},
   "cell_type": "markdown",
   "source": [
    "# Metody analýzy sítí\n",
    "\n",
    "Tento projekt se zaměřuje na výpočet a vizualizaci různých metrik sítě, konkrétně na analýzu sítě Facebook. Data, která jsou k dispozici na [Snap repository](https://snap.stanford.edu/data/facebook-large-page-page-network.html), obsahují informace o uzlech a hranách, kde uzly představují oficiální Facebook stránky a hrany představují vzájemné \"lajky\" mezi stránkami. Uzlové atributy jsou získány z popisů stránek, které jejich vlastníci vytvořili k shrnutí účelu stránky. Tento webgraf byl shromážděn prostřednictvím Facebook Graph API v listopadu 2017 a je omezen na stránky ze čtyř kategorií definovaných Facebookem: **politici**, **vládní organizace**, **televizní pořady** a **firmy**. Úkolem spojeným s tímto datasetem je klasifikace uzlů do těchto čtyř kategorií. Data byla zpracována v programu Gephi, kde byly vypočteny různé metriky sítě a výsledky exportovány do CSV souboru, který je nyní zpracován v tomto notebooku."
   ],
   "id": "140632beb92b4947"
  },
  {
   "metadata": {},
   "cell_type": "markdown",
   "source": "# Načtení knihoven",
   "id": "e366b2a0157a626b"
  },
  {
   "metadata": {
    "jupyter": {
     "is_executing": true
    }
   },
   "cell_type": "code",
   "source": [
    "import pandas as pd\n",
    "import networkx as nx\n",
    "import matplotlib.pyplot as plt\n",
    "import os"
   ],
   "id": "4aa03ea72076728a",
   "outputs": [],
   "execution_count": null
  },
  {
   "metadata": {},
   "cell_type": "markdown",
   "source": "# Načtení knihoven",
   "id": "ada8368ef0abd3d"
  },
  {
   "metadata": {
    "collapsed": true,
    "ExecuteTime": {
     "end_time": "2024-12-15T23:21:53.201923900Z",
     "start_time": "2024-12-15T23:09:29.114215Z"
    }
   },
   "cell_type": "code",
   "source": [
    "gephi_table = '../results/project/gephi_result.csv'\n",
    "edge_file = '../datasets/facebook/musae_facebook_edges.csv'"
   ],
   "id": "initial_id",
   "outputs": [],
   "execution_count": 25
  },
  {
   "metadata": {},
   "cell_type": "markdown",
   "source": "# Explorace dat",
   "id": "c3251bf3a210fbfd"
  },
  {
   "metadata": {
    "ExecuteTime": {
     "end_time": "2024-12-15T23:21:53.201923900Z",
     "start_time": "2024-12-15T23:09:29.192115Z"
    }
   },
   "cell_type": "code",
   "source": [
    "gephi_df = pd.read_csv(gephi_table)\n",
    "gephi_df.head()"
   ],
   "id": "c0841bb28dce8501",
   "outputs": [
    {
     "data": {
      "text/plain": [
       "  Id Label                                     page_name   page_type  Degree  \\\n",
       "0  0     0                      The Voice of China 中国好声音      tvshow       1   \n",
       "1  1     1                 U.S. Consulate General Mumbai  government      34   \n",
       "2  2     2                                          ESET     company      12   \n",
       "3  3     3  Consulate General of Switzerland in Montreal  government      10   \n",
       "4  4     4             Mark Bailey MP - Labor for Miller  politician      51   \n",
       "\n",
       "   Weighted Degree  Eccentricity  closnesscentrality  \\\n",
       "0                1            11            0.182482   \n",
       "1               34             9            0.257752   \n",
       "2               12            11            0.189540   \n",
       "3               10            10            0.219007   \n",
       "4               51            10            0.230387   \n",
       "\n",
       "   harmonicclosnesscentrality  betweenesscentrality  Authority       Hub  \\\n",
       "0                    0.188012              0.000000   0.000000  0.000000   \n",
       "1                    0.277288            644.280592   0.007947  0.007947   \n",
       "2                    0.196693             12.501440   0.000003  0.000003   \n",
       "3                    0.229082            549.034860   0.000016  0.000016   \n",
       "4                    0.244486            504.582940   0.000114  0.000114   \n",
       "\n",
       "   componentnumber  modularity_class  stat_inf_class  clustering  triangles  \n",
       "0                0                17               0    0.000000          0  \n",
       "1                0                11               0    0.481283        270  \n",
       "2                0                32               0    0.651515         43  \n",
       "3                0                20               0    0.511111         23  \n",
       "4                0                 9               0    0.420392        536  "
      ],
      "text/html": [
       "<div>\n",
       "<style scoped>\n",
       "    .dataframe tbody tr th:only-of-type {\n",
       "        vertical-align: middle;\n",
       "    }\n",
       "\n",
       "    .dataframe tbody tr th {\n",
       "        vertical-align: top;\n",
       "    }\n",
       "\n",
       "    .dataframe thead th {\n",
       "        text-align: right;\n",
       "    }\n",
       "</style>\n",
       "<table border=\"1\" class=\"dataframe\">\n",
       "  <thead>\n",
       "    <tr style=\"text-align: right;\">\n",
       "      <th></th>\n",
       "      <th>Id</th>\n",
       "      <th>Label</th>\n",
       "      <th>page_name</th>\n",
       "      <th>page_type</th>\n",
       "      <th>Degree</th>\n",
       "      <th>Weighted Degree</th>\n",
       "      <th>Eccentricity</th>\n",
       "      <th>closnesscentrality</th>\n",
       "      <th>harmonicclosnesscentrality</th>\n",
       "      <th>betweenesscentrality</th>\n",
       "      <th>Authority</th>\n",
       "      <th>Hub</th>\n",
       "      <th>componentnumber</th>\n",
       "      <th>modularity_class</th>\n",
       "      <th>stat_inf_class</th>\n",
       "      <th>clustering</th>\n",
       "      <th>triangles</th>\n",
       "    </tr>\n",
       "  </thead>\n",
       "  <tbody>\n",
       "    <tr>\n",
       "      <th>0</th>\n",
       "      <td>0</td>\n",
       "      <td>0</td>\n",
       "      <td>The Voice of China 中国好声音</td>\n",
       "      <td>tvshow</td>\n",
       "      <td>1</td>\n",
       "      <td>1</td>\n",
       "      <td>11</td>\n",
       "      <td>0.182482</td>\n",
       "      <td>0.188012</td>\n",
       "      <td>0.000000</td>\n",
       "      <td>0.000000</td>\n",
       "      <td>0.000000</td>\n",
       "      <td>0</td>\n",
       "      <td>17</td>\n",
       "      <td>0</td>\n",
       "      <td>0.000000</td>\n",
       "      <td>0</td>\n",
       "    </tr>\n",
       "    <tr>\n",
       "      <th>1</th>\n",
       "      <td>1</td>\n",
       "      <td>1</td>\n",
       "      <td>U.S. Consulate General Mumbai</td>\n",
       "      <td>government</td>\n",
       "      <td>34</td>\n",
       "      <td>34</td>\n",
       "      <td>9</td>\n",
       "      <td>0.257752</td>\n",
       "      <td>0.277288</td>\n",
       "      <td>644.280592</td>\n",
       "      <td>0.007947</td>\n",
       "      <td>0.007947</td>\n",
       "      <td>0</td>\n",
       "      <td>11</td>\n",
       "      <td>0</td>\n",
       "      <td>0.481283</td>\n",
       "      <td>270</td>\n",
       "    </tr>\n",
       "    <tr>\n",
       "      <th>2</th>\n",
       "      <td>2</td>\n",
       "      <td>2</td>\n",
       "      <td>ESET</td>\n",
       "      <td>company</td>\n",
       "      <td>12</td>\n",
       "      <td>12</td>\n",
       "      <td>11</td>\n",
       "      <td>0.189540</td>\n",
       "      <td>0.196693</td>\n",
       "      <td>12.501440</td>\n",
       "      <td>0.000003</td>\n",
       "      <td>0.000003</td>\n",
       "      <td>0</td>\n",
       "      <td>32</td>\n",
       "      <td>0</td>\n",
       "      <td>0.651515</td>\n",
       "      <td>43</td>\n",
       "    </tr>\n",
       "    <tr>\n",
       "      <th>3</th>\n",
       "      <td>3</td>\n",
       "      <td>3</td>\n",
       "      <td>Consulate General of Switzerland in Montreal</td>\n",
       "      <td>government</td>\n",
       "      <td>10</td>\n",
       "      <td>10</td>\n",
       "      <td>10</td>\n",
       "      <td>0.219007</td>\n",
       "      <td>0.229082</td>\n",
       "      <td>549.034860</td>\n",
       "      <td>0.000016</td>\n",
       "      <td>0.000016</td>\n",
       "      <td>0</td>\n",
       "      <td>20</td>\n",
       "      <td>0</td>\n",
       "      <td>0.511111</td>\n",
       "      <td>23</td>\n",
       "    </tr>\n",
       "    <tr>\n",
       "      <th>4</th>\n",
       "      <td>4</td>\n",
       "      <td>4</td>\n",
       "      <td>Mark Bailey MP - Labor for Miller</td>\n",
       "      <td>politician</td>\n",
       "      <td>51</td>\n",
       "      <td>51</td>\n",
       "      <td>10</td>\n",
       "      <td>0.230387</td>\n",
       "      <td>0.244486</td>\n",
       "      <td>504.582940</td>\n",
       "      <td>0.000114</td>\n",
       "      <td>0.000114</td>\n",
       "      <td>0</td>\n",
       "      <td>9</td>\n",
       "      <td>0</td>\n",
       "      <td>0.420392</td>\n",
       "      <td>536</td>\n",
       "    </tr>\n",
       "  </tbody>\n",
       "</table>\n",
       "</div>"
      ]
     },
     "execution_count": 26,
     "metadata": {},
     "output_type": "execute_result"
    }
   ],
   "execution_count": 26
  },
  {
   "metadata": {},
   "cell_type": "markdown",
   "source": "## Zahození nepotřebných sloupců",
   "id": "34add04bb130ebe4"
  },
  {
   "metadata": {
    "ExecuteTime": {
     "end_time": "2024-12-15T23:21:53.201923900Z",
     "start_time": "2024-12-15T23:09:29.297522Z"
    }
   },
   "cell_type": "code",
   "source": "gephi_df = gephi_df.drop(columns=['Label'])",
   "id": "de894b773366d811",
   "outputs": [],
   "execution_count": 27
  },
  {
   "metadata": {},
   "cell_type": "markdown",
   "source": "## Jména sloupců",
   "id": "68ece3c3e3db7ef2"
  },
  {
   "metadata": {
    "ExecuteTime": {
     "end_time": "2024-12-15T23:21:53.201923900Z",
     "start_time": "2024-12-15T23:09:29.349266Z"
    }
   },
   "cell_type": "code",
   "source": "gephi_df.columns",
   "id": "837a2049c43c66ab",
   "outputs": [
    {
     "data": {
      "text/plain": [
       "Index(['Id', 'page_name', 'page_type', 'Degree', 'Weighted Degree',\n",
       "       'Eccentricity', 'closnesscentrality', 'harmonicclosnesscentrality',\n",
       "       'betweenesscentrality', 'Authority', 'Hub', 'componentnumber',\n",
       "       'modularity_class', 'stat_inf_class', 'clustering', 'triangles'],\n",
       "      dtype='object')"
      ]
     },
     "execution_count": 28,
     "metadata": {},
     "output_type": "execute_result"
    }
   ],
   "execution_count": 28
  },
  {
   "metadata": {},
   "cell_type": "markdown",
   "source": [
    "## Vytvoření instancí třídy `Graph` z knihovny `networkx`\n",
    "\n",
    "Vytvoření grafu z hrany a uzlů pro lepší počítání metrik sítě."
   ],
   "id": "eb4fa0da1a62b911"
  },
  {
   "metadata": {
    "ExecuteTime": {
     "end_time": "2024-12-15T23:21:53.201923900Z",
     "start_time": "2024-12-15T23:09:29.434119Z"
    }
   },
   "cell_type": "code",
   "source": "G = nx.read_edgelist(edge_file, delimiter=',')",
   "id": "60bd0202a9449d7f",
   "outputs": [],
   "execution_count": 29
  },
  {
   "metadata": {},
   "cell_type": "markdown",
   "source": "## Počet uzlů a hran",
   "id": "adcab26e1e34229a"
  },
  {
   "metadata": {
    "ExecuteTime": {
     "end_time": "2024-12-15T23:21:53.201923900Z",
     "start_time": "2024-12-15T23:09:29.900326Z"
    }
   },
   "cell_type": "code",
   "source": [
    "total_node_count = G.number_of_nodes()\n",
    "total_edge_count = G.number_of_edges()\n",
    "print(f'Počet uzlů: {total_node_count}\\nPočet hran: {total_edge_count}')"
   ],
   "id": "2985e6a57191273d",
   "outputs": [
    {
     "name": "stdout",
     "output_type": "stream",
     "text": [
      "Počet uzlů: 22472\n",
      "Počet hran: 171003\n"
     ]
    }
   ],
   "execution_count": 30
  },
  {
   "metadata": {},
   "cell_type": "markdown",
   "source": "## Hustota sítě",
   "id": "3a1c5711c5269c27"
  },
  {
   "metadata": {
    "ExecuteTime": {
     "end_time": "2024-12-15T23:21:53.201923900Z",
     "start_time": "2024-12-15T23:09:29.944592Z"
    }
   },
   "cell_type": "code",
   "source": [
    "density = nx.density(G)\n",
    "density"
   ],
   "id": "5efcc9cdb55f835f",
   "outputs": [
    {
     "data": {
      "text/plain": [
       "0.0006772821024064575"
      ]
     },
     "execution_count": 31,
     "metadata": {},
     "output_type": "execute_result"
    }
   ],
   "execution_count": 31
  },
  {
   "metadata": {},
   "cell_type": "markdown",
   "source": "## Průměrný stupeň uzlu",
   "id": "d6aea8344cf24176"
  },
  {
   "metadata": {
    "ExecuteTime": {
     "end_time": "2024-12-15T23:21:53.201923900Z",
     "start_time": "2024-12-15T23:09:29.990319Z"
    }
   },
   "cell_type": "code",
   "source": [
    "average_degree = sum(dict(G.degree()).values()) / G.number_of_nodes()\n",
    "average_degree"
   ],
   "id": "ee97da437bb644aa",
   "outputs": [
    {
     "data": {
      "text/plain": [
       "15.219206123175507"
      ]
     },
     "execution_count": 32,
     "metadata": {},
     "output_type": "execute_result"
    }
   ],
   "execution_count": 32
  },
  {
   "metadata": {},
   "cell_type": "markdown",
   "source": "## Maximální stupeň uzlu",
   "id": "9378ba1db56b3cf7"
  },
  {
   "metadata": {
    "ExecuteTime": {
     "end_time": "2024-12-15T23:21:53.201923900Z",
     "start_time": "2024-12-15T23:09:30.089945Z"
    }
   },
   "cell_type": "code",
   "source": [
    "max_degree = max(dict(G.degree()).values())\n",
    "max_degree"
   ],
   "id": "5a8a8833a3ac798c",
   "outputs": [
    {
     "data": {
      "text/plain": [
       "709"
      ]
     },
     "execution_count": 33,
     "metadata": {},
     "output_type": "execute_result"
    }
   ],
   "execution_count": 33
  },
  {
   "metadata": {},
   "cell_type": "markdown",
   "source": "## Distribuce stupňů",
   "id": "e78c4f95fe68e1ef"
  },
  {
   "metadata": {
    "ExecuteTime": {
     "end_time": "2024-12-15T23:21:53.201923900Z",
     "start_time": "2024-12-15T23:09:30.145057Z"
    }
   },
   "cell_type": "code",
   "source": [
    "degree_values = dict(G.degree()).values()\n",
    "degree_values = pd.Series(degree_values)\n",
    "degree_values = degree_values.value_counts().sort_index()\n",
    "print(f\"Celokový počet distribuce stupňů: {len(degree_values)}\")"
   ],
   "id": "3c798323be8db76f",
   "outputs": [
    {
     "name": "stdout",
     "output_type": "stream",
     "text": [
      "Celokový počet distribuce stupňů: 233\n"
     ]
    }
   ],
   "execution_count": 34
  },
  {
   "metadata": {},
   "cell_type": "markdown",
   "source": "To si asi necháme pro vizualizaci.",
   "id": "fcb7f1f776dd3fff"
  },
  {
   "metadata": {},
   "cell_type": "markdown",
   "source": "## Počet unikátních hodnot kategorií",
   "id": "554719a074a2bf88"
  },
  {
   "metadata": {
    "ExecuteTime": {
     "end_time": "2024-12-15T23:21:53.201923900Z",
     "start_time": "2024-12-15T23:09:30.207285Z"
    }
   },
   "cell_type": "code",
   "source": "gephi_df['page_type'].value_counts()",
   "id": "d78bbabea6ef5811",
   "outputs": [
    {
     "data": {
      "text/plain": [
       "page_type\n",
       "government    6880\n",
       "company       6495\n",
       "politician    5768\n",
       "tvshow        3327\n",
       "Name: count, dtype: int64"
      ]
     },
     "execution_count": 35,
     "metadata": {},
     "output_type": "execute_result"
    }
   ],
   "execution_count": 35
  },
  {
   "metadata": {
    "ExecuteTime": {
     "end_time": "2024-12-15T23:21:53.201923900Z",
     "start_time": "2024-12-15T23:09:30.274190Z"
    }
   },
   "cell_type": "code",
   "source": [
    "# Group by modularity_class, then use nlargest to get the biggest node by Degree in each community\n",
    "largest_nodes = gephi_df.loc[gephi_df.groupby('modularity_class')['Degree'].idxmax()]\n",
    "\n",
    "# Sort communities by size (community size is the count of nodes per community)\n",
    "community_sizes = gephi_df.groupby('modularity_class').size().sort_values(ascending=False)\n",
    "\n",
    "# Merge the community data with sizes for sorting\n",
    "largest_nodes['community_size'] = largest_nodes['modularity_class'].map(community_sizes)\n",
    "\n",
    "# Sort by community size\n",
    "largest_nodes = largest_nodes.sort_values(by='community_size', ascending=False)\n",
    "\n",
    "# Select the relevant columns\n",
    "largest_nodes = largest_nodes[['modularity_class', 'page_name', 'page_type', 'Degree', 'community_size']]\n",
    "\n",
    "# Display the dataframe\n",
    "largest_nodes"
   ],
   "id": "a28132ba9c688955",
   "outputs": [
    {
     "data": {
      "text/plain": [
       "       modularity_class                                          page_name  \\\n",
       "909                   2                                         Today Show   \n",
       "19743                11                                    The White House   \n",
       "14650                28                                      Manfred Weber   \n",
       "21120                 6                                European Parliament   \n",
       "16895                22                                          U.S. Army   \n",
       "11102                 9                                Anthony Albanese MP   \n",
       "17523                40                                             Qantas   \n",
       "16052                13                 Senate of Canada - Sénat du Canada   \n",
       "4296                 24                                      Home & Family   \n",
       "16809                18                             Sir Peter Bottomley MP   \n",
       "212                  35                                     Dilma Rousseff   \n",
       "7362                  5                                  France Diplomatie   \n",
       "1783                  0                                    Urna de Cristal   \n",
       "2597                  4                                          Microsoft   \n",
       "2323                 26  Ministry of External Affairs, Government of India   \n",
       "5049                 38                                     Mauricio Macri   \n",
       "8669                 30                        Presidencia de la República   \n",
       "18427                17                                   The Voice Global   \n",
       "20152                12                                   蔡英文 Tsai Ing-wen   \n",
       "20334                33                               Christel Schaldemose   \n",
       "16885                 3                                           Ted Cruz   \n",
       "11560                10                        Diego De Lorenzis Cittadino   \n",
       "701                  32                                           Facebook   \n",
       "20824                14                                    Lee Hsien Loong   \n",
       "904                   7                                Israel en Guatemala   \n",
       "13253                21                                         Volkswagen   \n",
       "21662                 8                                             Disney   \n",
       "18886                16          NYC Department of Small Business Services   \n",
       "304                  31                                           John Key   \n",
       "14205                29                           T.C. Dışişleri Bakanlığı   \n",
       "1618                 15                                       The Simpsons   \n",
       "19228                23                      NESCAFÉ Dolce Gusto Nederland   \n",
       "16721                36  Ministerul Afacerilor Externe/ Ministry of For...   \n",
       "293                  20                                     Ignazio Cassis   \n",
       "14161                37                             L'OCCITANE en Provence   \n",
       "18349                41                                            24 Oras   \n",
       "13997                 1             DSDS - Deutschland sucht den Superstar   \n",
       "11370                19                                 Kemal Kılıçdaroğlu   \n",
       "11331                39                                     Försvarsmakten   \n",
       "3304                 34                                          Carrossel   \n",
       "4142                 27                Office of Natural Resources Revenue   \n",
       "9289                 25                                         Beeline KZ   \n",
       "22470                42                                                NaN   \n",
       "\n",
       "        page_type  Degree  community_size  \n",
       "909        tvshow     141            3014  \n",
       "19743  government     678            2168  \n",
       "14650  politician     326            1499  \n",
       "21120  government     417            1339  \n",
       "16895  government     709            1136  \n",
       "11102  politician     158            1085  \n",
       "17523     company     102            1064  \n",
       "16052  government     266            1021  \n",
       "4296       tvshow     137            1020  \n",
       "16809  politician     174             898  \n",
       "212    politician     133             868  \n",
       "7362   government     181             585  \n",
       "1783   government     105             576  \n",
       "2597      company     112             533  \n",
       "2323   government     118             486  \n",
       "5049   politician     121             472  \n",
       "8669   government      93             386  \n",
       "18427      tvshow      51             345  \n",
       "20152  politician      68             329  \n",
       "20334  politician      57             325  \n",
       "16885  politician      41             313  \n",
       "11560  politician      62             295  \n",
       "701       company     380             272  \n",
       "20824  politician      45             271  \n",
       "904    government     177             246  \n",
       "13253     company      45             228  \n",
       "21662     company      92             223  \n",
       "18886  government     114             193  \n",
       "304    politician      56             176  \n",
       "14205  government      67             171  \n",
       "1618       tvshow     110             157  \n",
       "19228     company      26             153  \n",
       "16721  government     101             153  \n",
       "293    politician      59             142  \n",
       "14161     company      70             140  \n",
       "18349      tvshow      28              70  \n",
       "13997      tvshow      16              37  \n",
       "11370  politician      14              23  \n",
       "11331  government      24              21  \n",
       "3304       tvshow       7              14  \n",
       "4142   government      15              14  \n",
       "9289      company       6               9  \n",
       "22470         NaN       1               2  "
      ],
      "text/html": [
       "<div>\n",
       "<style scoped>\n",
       "    .dataframe tbody tr th:only-of-type {\n",
       "        vertical-align: middle;\n",
       "    }\n",
       "\n",
       "    .dataframe tbody tr th {\n",
       "        vertical-align: top;\n",
       "    }\n",
       "\n",
       "    .dataframe thead th {\n",
       "        text-align: right;\n",
       "    }\n",
       "</style>\n",
       "<table border=\"1\" class=\"dataframe\">\n",
       "  <thead>\n",
       "    <tr style=\"text-align: right;\">\n",
       "      <th></th>\n",
       "      <th>modularity_class</th>\n",
       "      <th>page_name</th>\n",
       "      <th>page_type</th>\n",
       "      <th>Degree</th>\n",
       "      <th>community_size</th>\n",
       "    </tr>\n",
       "  </thead>\n",
       "  <tbody>\n",
       "    <tr>\n",
       "      <th>909</th>\n",
       "      <td>2</td>\n",
       "      <td>Today Show</td>\n",
       "      <td>tvshow</td>\n",
       "      <td>141</td>\n",
       "      <td>3014</td>\n",
       "    </tr>\n",
       "    <tr>\n",
       "      <th>19743</th>\n",
       "      <td>11</td>\n",
       "      <td>The White House</td>\n",
       "      <td>government</td>\n",
       "      <td>678</td>\n",
       "      <td>2168</td>\n",
       "    </tr>\n",
       "    <tr>\n",
       "      <th>14650</th>\n",
       "      <td>28</td>\n",
       "      <td>Manfred Weber</td>\n",
       "      <td>politician</td>\n",
       "      <td>326</td>\n",
       "      <td>1499</td>\n",
       "    </tr>\n",
       "    <tr>\n",
       "      <th>21120</th>\n",
       "      <td>6</td>\n",
       "      <td>European Parliament</td>\n",
       "      <td>government</td>\n",
       "      <td>417</td>\n",
       "      <td>1339</td>\n",
       "    </tr>\n",
       "    <tr>\n",
       "      <th>16895</th>\n",
       "      <td>22</td>\n",
       "      <td>U.S. Army</td>\n",
       "      <td>government</td>\n",
       "      <td>709</td>\n",
       "      <td>1136</td>\n",
       "    </tr>\n",
       "    <tr>\n",
       "      <th>11102</th>\n",
       "      <td>9</td>\n",
       "      <td>Anthony Albanese MP</td>\n",
       "      <td>politician</td>\n",
       "      <td>158</td>\n",
       "      <td>1085</td>\n",
       "    </tr>\n",
       "    <tr>\n",
       "      <th>17523</th>\n",
       "      <td>40</td>\n",
       "      <td>Qantas</td>\n",
       "      <td>company</td>\n",
       "      <td>102</td>\n",
       "      <td>1064</td>\n",
       "    </tr>\n",
       "    <tr>\n",
       "      <th>16052</th>\n",
       "      <td>13</td>\n",
       "      <td>Senate of Canada - Sénat du Canada</td>\n",
       "      <td>government</td>\n",
       "      <td>266</td>\n",
       "      <td>1021</td>\n",
       "    </tr>\n",
       "    <tr>\n",
       "      <th>4296</th>\n",
       "      <td>24</td>\n",
       "      <td>Home &amp; Family</td>\n",
       "      <td>tvshow</td>\n",
       "      <td>137</td>\n",
       "      <td>1020</td>\n",
       "    </tr>\n",
       "    <tr>\n",
       "      <th>16809</th>\n",
       "      <td>18</td>\n",
       "      <td>Sir Peter Bottomley MP</td>\n",
       "      <td>politician</td>\n",
       "      <td>174</td>\n",
       "      <td>898</td>\n",
       "    </tr>\n",
       "    <tr>\n",
       "      <th>212</th>\n",
       "      <td>35</td>\n",
       "      <td>Dilma Rousseff</td>\n",
       "      <td>politician</td>\n",
       "      <td>133</td>\n",
       "      <td>868</td>\n",
       "    </tr>\n",
       "    <tr>\n",
       "      <th>7362</th>\n",
       "      <td>5</td>\n",
       "      <td>France Diplomatie</td>\n",
       "      <td>government</td>\n",
       "      <td>181</td>\n",
       "      <td>585</td>\n",
       "    </tr>\n",
       "    <tr>\n",
       "      <th>1783</th>\n",
       "      <td>0</td>\n",
       "      <td>Urna de Cristal</td>\n",
       "      <td>government</td>\n",
       "      <td>105</td>\n",
       "      <td>576</td>\n",
       "    </tr>\n",
       "    <tr>\n",
       "      <th>2597</th>\n",
       "      <td>4</td>\n",
       "      <td>Microsoft</td>\n",
       "      <td>company</td>\n",
       "      <td>112</td>\n",
       "      <td>533</td>\n",
       "    </tr>\n",
       "    <tr>\n",
       "      <th>2323</th>\n",
       "      <td>26</td>\n",
       "      <td>Ministry of External Affairs, Government of India</td>\n",
       "      <td>government</td>\n",
       "      <td>118</td>\n",
       "      <td>486</td>\n",
       "    </tr>\n",
       "    <tr>\n",
       "      <th>5049</th>\n",
       "      <td>38</td>\n",
       "      <td>Mauricio Macri</td>\n",
       "      <td>politician</td>\n",
       "      <td>121</td>\n",
       "      <td>472</td>\n",
       "    </tr>\n",
       "    <tr>\n",
       "      <th>8669</th>\n",
       "      <td>30</td>\n",
       "      <td>Presidencia de la República</td>\n",
       "      <td>government</td>\n",
       "      <td>93</td>\n",
       "      <td>386</td>\n",
       "    </tr>\n",
       "    <tr>\n",
       "      <th>18427</th>\n",
       "      <td>17</td>\n",
       "      <td>The Voice Global</td>\n",
       "      <td>tvshow</td>\n",
       "      <td>51</td>\n",
       "      <td>345</td>\n",
       "    </tr>\n",
       "    <tr>\n",
       "      <th>20152</th>\n",
       "      <td>12</td>\n",
       "      <td>蔡英文 Tsai Ing-wen</td>\n",
       "      <td>politician</td>\n",
       "      <td>68</td>\n",
       "      <td>329</td>\n",
       "    </tr>\n",
       "    <tr>\n",
       "      <th>20334</th>\n",
       "      <td>33</td>\n",
       "      <td>Christel Schaldemose</td>\n",
       "      <td>politician</td>\n",
       "      <td>57</td>\n",
       "      <td>325</td>\n",
       "    </tr>\n",
       "    <tr>\n",
       "      <th>16885</th>\n",
       "      <td>3</td>\n",
       "      <td>Ted Cruz</td>\n",
       "      <td>politician</td>\n",
       "      <td>41</td>\n",
       "      <td>313</td>\n",
       "    </tr>\n",
       "    <tr>\n",
       "      <th>11560</th>\n",
       "      <td>10</td>\n",
       "      <td>Diego De Lorenzis Cittadino</td>\n",
       "      <td>politician</td>\n",
       "      <td>62</td>\n",
       "      <td>295</td>\n",
       "    </tr>\n",
       "    <tr>\n",
       "      <th>701</th>\n",
       "      <td>32</td>\n",
       "      <td>Facebook</td>\n",
       "      <td>company</td>\n",
       "      <td>380</td>\n",
       "      <td>272</td>\n",
       "    </tr>\n",
       "    <tr>\n",
       "      <th>20824</th>\n",
       "      <td>14</td>\n",
       "      <td>Lee Hsien Loong</td>\n",
       "      <td>politician</td>\n",
       "      <td>45</td>\n",
       "      <td>271</td>\n",
       "    </tr>\n",
       "    <tr>\n",
       "      <th>904</th>\n",
       "      <td>7</td>\n",
       "      <td>Israel en Guatemala</td>\n",
       "      <td>government</td>\n",
       "      <td>177</td>\n",
       "      <td>246</td>\n",
       "    </tr>\n",
       "    <tr>\n",
       "      <th>13253</th>\n",
       "      <td>21</td>\n",
       "      <td>Volkswagen</td>\n",
       "      <td>company</td>\n",
       "      <td>45</td>\n",
       "      <td>228</td>\n",
       "    </tr>\n",
       "    <tr>\n",
       "      <th>21662</th>\n",
       "      <td>8</td>\n",
       "      <td>Disney</td>\n",
       "      <td>company</td>\n",
       "      <td>92</td>\n",
       "      <td>223</td>\n",
       "    </tr>\n",
       "    <tr>\n",
       "      <th>18886</th>\n",
       "      <td>16</td>\n",
       "      <td>NYC Department of Small Business Services</td>\n",
       "      <td>government</td>\n",
       "      <td>114</td>\n",
       "      <td>193</td>\n",
       "    </tr>\n",
       "    <tr>\n",
       "      <th>304</th>\n",
       "      <td>31</td>\n",
       "      <td>John Key</td>\n",
       "      <td>politician</td>\n",
       "      <td>56</td>\n",
       "      <td>176</td>\n",
       "    </tr>\n",
       "    <tr>\n",
       "      <th>14205</th>\n",
       "      <td>29</td>\n",
       "      <td>T.C. Dışişleri Bakanlığı</td>\n",
       "      <td>government</td>\n",
       "      <td>67</td>\n",
       "      <td>171</td>\n",
       "    </tr>\n",
       "    <tr>\n",
       "      <th>1618</th>\n",
       "      <td>15</td>\n",
       "      <td>The Simpsons</td>\n",
       "      <td>tvshow</td>\n",
       "      <td>110</td>\n",
       "      <td>157</td>\n",
       "    </tr>\n",
       "    <tr>\n",
       "      <th>19228</th>\n",
       "      <td>23</td>\n",
       "      <td>NESCAFÉ Dolce Gusto Nederland</td>\n",
       "      <td>company</td>\n",
       "      <td>26</td>\n",
       "      <td>153</td>\n",
       "    </tr>\n",
       "    <tr>\n",
       "      <th>16721</th>\n",
       "      <td>36</td>\n",
       "      <td>Ministerul Afacerilor Externe/ Ministry of For...</td>\n",
       "      <td>government</td>\n",
       "      <td>101</td>\n",
       "      <td>153</td>\n",
       "    </tr>\n",
       "    <tr>\n",
       "      <th>293</th>\n",
       "      <td>20</td>\n",
       "      <td>Ignazio Cassis</td>\n",
       "      <td>politician</td>\n",
       "      <td>59</td>\n",
       "      <td>142</td>\n",
       "    </tr>\n",
       "    <tr>\n",
       "      <th>14161</th>\n",
       "      <td>37</td>\n",
       "      <td>L'OCCITANE en Provence</td>\n",
       "      <td>company</td>\n",
       "      <td>70</td>\n",
       "      <td>140</td>\n",
       "    </tr>\n",
       "    <tr>\n",
       "      <th>18349</th>\n",
       "      <td>41</td>\n",
       "      <td>24 Oras</td>\n",
       "      <td>tvshow</td>\n",
       "      <td>28</td>\n",
       "      <td>70</td>\n",
       "    </tr>\n",
       "    <tr>\n",
       "      <th>13997</th>\n",
       "      <td>1</td>\n",
       "      <td>DSDS - Deutschland sucht den Superstar</td>\n",
       "      <td>tvshow</td>\n",
       "      <td>16</td>\n",
       "      <td>37</td>\n",
       "    </tr>\n",
       "    <tr>\n",
       "      <th>11370</th>\n",
       "      <td>19</td>\n",
       "      <td>Kemal Kılıçdaroğlu</td>\n",
       "      <td>politician</td>\n",
       "      <td>14</td>\n",
       "      <td>23</td>\n",
       "    </tr>\n",
       "    <tr>\n",
       "      <th>11331</th>\n",
       "      <td>39</td>\n",
       "      <td>Försvarsmakten</td>\n",
       "      <td>government</td>\n",
       "      <td>24</td>\n",
       "      <td>21</td>\n",
       "    </tr>\n",
       "    <tr>\n",
       "      <th>3304</th>\n",
       "      <td>34</td>\n",
       "      <td>Carrossel</td>\n",
       "      <td>tvshow</td>\n",
       "      <td>7</td>\n",
       "      <td>14</td>\n",
       "    </tr>\n",
       "    <tr>\n",
       "      <th>4142</th>\n",
       "      <td>27</td>\n",
       "      <td>Office of Natural Resources Revenue</td>\n",
       "      <td>government</td>\n",
       "      <td>15</td>\n",
       "      <td>14</td>\n",
       "    </tr>\n",
       "    <tr>\n",
       "      <th>9289</th>\n",
       "      <td>25</td>\n",
       "      <td>Beeline KZ</td>\n",
       "      <td>company</td>\n",
       "      <td>6</td>\n",
       "      <td>9</td>\n",
       "    </tr>\n",
       "    <tr>\n",
       "      <th>22470</th>\n",
       "      <td>42</td>\n",
       "      <td>NaN</td>\n",
       "      <td>NaN</td>\n",
       "      <td>1</td>\n",
       "      <td>2</td>\n",
       "    </tr>\n",
       "  </tbody>\n",
       "</table>\n",
       "</div>"
      ]
     },
     "execution_count": 36,
     "metadata": {},
     "output_type": "execute_result"
    }
   ],
   "execution_count": 36
  },
  {
   "metadata": {},
   "cell_type": "markdown",
   "source": "## Top 10 uzlů podle stupně",
   "id": "bb6f7e6532fbbe0b"
  },
  {
   "metadata": {},
   "cell_type": "markdown",
   "source": "### Vytvoření tabulky s top 10 uzly podle stupně",
   "id": "33cf13dca2d47f96"
  },
  {
   "metadata": {
    "ExecuteTime": {
     "end_time": "2024-12-15T23:21:53.201923900Z",
     "start_time": "2024-12-15T23:09:30.439476Z"
    }
   },
   "cell_type": "code",
   "source": [
    "# five biggest nodes in each page_type\n",
    "page_type_top_10_df = pd.DataFrame()\n",
    "for page_type in gephi_df['page_type'].unique():\n",
    "    page_type_df = gephi_df[gephi_df['page_type'] == page_type]\n",
    "    page_type_top_10_df = pd.concat([page_type_top_10_df, page_type_df.nlargest(10, 'Degree')])"
   ],
   "id": "a73904c4817181bd",
   "outputs": [],
   "execution_count": 37
  },
  {
   "metadata": {},
   "cell_type": "markdown",
   "source": "### Výpis tabulky",
   "id": "20b3c4c7d6bac777"
  },
  {
   "metadata": {
    "ExecuteTime": {
     "end_time": "2024-12-15T23:21:53.201923900Z",
     "start_time": "2024-12-15T23:09:30.554233Z"
    }
   },
   "cell_type": "code",
   "source": [
    "def print_top_ten(input_type):\n",
    "    df_tmp = page_type_top_10_df[page_type_top_10_df['page_type'] == input_type]\n",
    "    return df_tmp[['page_name', 'Degree']]"
   ],
   "id": "ed9a2f8f1d46277a",
   "outputs": [],
   "execution_count": 38
  },
  {
   "metadata": {},
   "cell_type": "markdown",
   "source": "### Top 10 uzlů podle stupně pro různé kategorie",
   "id": "3d905a71a8f3ffd9"
  },
  {
   "metadata": {},
   "cell_type": "markdown",
   "source": "#### Televizní pořady",
   "id": "e97e354b0c7281ee"
  },
  {
   "metadata": {
    "ExecuteTime": {
     "end_time": "2024-12-15T23:21:53.201923900Z",
     "start_time": "2024-12-15T23:09:30.659604Z"
    }
   },
   "cell_type": "code",
   "source": "print_top_ten('tvshow')",
   "id": "93ef7a8c9d40e8e9",
   "outputs": [
    {
     "data": {
      "text/plain": [
       "                        page_name  Degree\n",
       "909                    Today Show     141\n",
       "4296                Home & Family     137\n",
       "15839                  tagesschau     119\n",
       "1618                 The Simpsons     110\n",
       "20516                        Glee     101\n",
       "7919   So You Think You Can Dance      99\n",
       "19127                  Family Guy      91\n",
       "4751                   MasterChef      90\n",
       "10670      Dancing with the Stars      90\n",
       "13140                    New Girl      90"
      ],
      "text/html": [
       "<div>\n",
       "<style scoped>\n",
       "    .dataframe tbody tr th:only-of-type {\n",
       "        vertical-align: middle;\n",
       "    }\n",
       "\n",
       "    .dataframe tbody tr th {\n",
       "        vertical-align: top;\n",
       "    }\n",
       "\n",
       "    .dataframe thead th {\n",
       "        text-align: right;\n",
       "    }\n",
       "</style>\n",
       "<table border=\"1\" class=\"dataframe\">\n",
       "  <thead>\n",
       "    <tr style=\"text-align: right;\">\n",
       "      <th></th>\n",
       "      <th>page_name</th>\n",
       "      <th>Degree</th>\n",
       "    </tr>\n",
       "  </thead>\n",
       "  <tbody>\n",
       "    <tr>\n",
       "      <th>909</th>\n",
       "      <td>Today Show</td>\n",
       "      <td>141</td>\n",
       "    </tr>\n",
       "    <tr>\n",
       "      <th>4296</th>\n",
       "      <td>Home &amp; Family</td>\n",
       "      <td>137</td>\n",
       "    </tr>\n",
       "    <tr>\n",
       "      <th>15839</th>\n",
       "      <td>tagesschau</td>\n",
       "      <td>119</td>\n",
       "    </tr>\n",
       "    <tr>\n",
       "      <th>1618</th>\n",
       "      <td>The Simpsons</td>\n",
       "      <td>110</td>\n",
       "    </tr>\n",
       "    <tr>\n",
       "      <th>20516</th>\n",
       "      <td>Glee</td>\n",
       "      <td>101</td>\n",
       "    </tr>\n",
       "    <tr>\n",
       "      <th>7919</th>\n",
       "      <td>So You Think You Can Dance</td>\n",
       "      <td>99</td>\n",
       "    </tr>\n",
       "    <tr>\n",
       "      <th>19127</th>\n",
       "      <td>Family Guy</td>\n",
       "      <td>91</td>\n",
       "    </tr>\n",
       "    <tr>\n",
       "      <th>4751</th>\n",
       "      <td>MasterChef</td>\n",
       "      <td>90</td>\n",
       "    </tr>\n",
       "    <tr>\n",
       "      <th>10670</th>\n",
       "      <td>Dancing with the Stars</td>\n",
       "      <td>90</td>\n",
       "    </tr>\n",
       "    <tr>\n",
       "      <th>13140</th>\n",
       "      <td>New Girl</td>\n",
       "      <td>90</td>\n",
       "    </tr>\n",
       "  </tbody>\n",
       "</table>\n",
       "</div>"
      ]
     },
     "execution_count": 39,
     "metadata": {},
     "output_type": "execute_result"
    }
   ],
   "execution_count": 39
  },
  {
   "metadata": {},
   "cell_type": "markdown",
   "source": "#### Politici",
   "id": "b4f6eea283ba0ed5"
  },
  {
   "metadata": {
    "ExecuteTime": {
     "end_time": "2024-12-15T23:21:53.201923900Z",
     "start_time": "2024-12-15T23:09:30.755253Z"
    }
   },
   "cell_type": "code",
   "source": "print_top_ten('politician')",
   "id": "a09f71dd321e1efc",
   "outputs": [
    {
     "data": {
      "text/plain": [
       "                 page_name  Degree\n",
       "11003         Barack Obama     341\n",
       "14650        Manfred Weber     326\n",
       "20415     Joachim Herrmann     320\n",
       "17056        Martin Schulz     236\n",
       "3070        Arno Klare MdB     226\n",
       "21491      Katarina Barley     224\n",
       "7357            Katja Mast     222\n",
       "18155        Angela Merkel     217\n",
       "18819          Niels Annen     199\n",
       "290    Marie-Claude Bibeau     174"
      ],
      "text/html": [
       "<div>\n",
       "<style scoped>\n",
       "    .dataframe tbody tr th:only-of-type {\n",
       "        vertical-align: middle;\n",
       "    }\n",
       "\n",
       "    .dataframe tbody tr th {\n",
       "        vertical-align: top;\n",
       "    }\n",
       "\n",
       "    .dataframe thead th {\n",
       "        text-align: right;\n",
       "    }\n",
       "</style>\n",
       "<table border=\"1\" class=\"dataframe\">\n",
       "  <thead>\n",
       "    <tr style=\"text-align: right;\">\n",
       "      <th></th>\n",
       "      <th>page_name</th>\n",
       "      <th>Degree</th>\n",
       "    </tr>\n",
       "  </thead>\n",
       "  <tbody>\n",
       "    <tr>\n",
       "      <th>11003</th>\n",
       "      <td>Barack Obama</td>\n",
       "      <td>341</td>\n",
       "    </tr>\n",
       "    <tr>\n",
       "      <th>14650</th>\n",
       "      <td>Manfred Weber</td>\n",
       "      <td>326</td>\n",
       "    </tr>\n",
       "    <tr>\n",
       "      <th>20415</th>\n",
       "      <td>Joachim Herrmann</td>\n",
       "      <td>320</td>\n",
       "    </tr>\n",
       "    <tr>\n",
       "      <th>17056</th>\n",
       "      <td>Martin Schulz</td>\n",
       "      <td>236</td>\n",
       "    </tr>\n",
       "    <tr>\n",
       "      <th>3070</th>\n",
       "      <td>Arno Klare MdB</td>\n",
       "      <td>226</td>\n",
       "    </tr>\n",
       "    <tr>\n",
       "      <th>21491</th>\n",
       "      <td>Katarina Barley</td>\n",
       "      <td>224</td>\n",
       "    </tr>\n",
       "    <tr>\n",
       "      <th>7357</th>\n",
       "      <td>Katja Mast</td>\n",
       "      <td>222</td>\n",
       "    </tr>\n",
       "    <tr>\n",
       "      <th>18155</th>\n",
       "      <td>Angela Merkel</td>\n",
       "      <td>217</td>\n",
       "    </tr>\n",
       "    <tr>\n",
       "      <th>18819</th>\n",
       "      <td>Niels Annen</td>\n",
       "      <td>199</td>\n",
       "    </tr>\n",
       "    <tr>\n",
       "      <th>290</th>\n",
       "      <td>Marie-Claude Bibeau</td>\n",
       "      <td>174</td>\n",
       "    </tr>\n",
       "  </tbody>\n",
       "</table>\n",
       "</div>"
      ]
     },
     "execution_count": 40,
     "metadata": {},
     "output_type": "execute_result"
    }
   ],
   "execution_count": 40
  },
  {
   "metadata": {},
   "cell_type": "markdown",
   "source": "#### Vládní organizace",
   "id": "6d3e948368ee70d6"
  },
  {
   "metadata": {
    "ExecuteTime": {
     "end_time": "2024-12-15T23:21:53.201923900Z",
     "start_time": "2024-12-15T23:09:30.884069Z"
    }
   },
   "cell_type": "code",
   "source": "print_top_ten('government')",
   "id": "9aa6f70dcb45b6ff",
   "outputs": [
    {
     "data": {
      "text/plain": [
       "                                             page_name  Degree\n",
       "16895                                        U.S. Army     709\n",
       "19743                                  The White House     678\n",
       "21729                            The Obama White House     659\n",
       "14497                         U.S. Army Chaplain Corps     650\n",
       "1387   Honolulu District, U.S. Army Corps of Engineers     504\n",
       "10379                         U.S. Department of State     468\n",
       "19347         FEMA Federal Emergency Management Agency     448\n",
       "21120                              European Parliament     417\n",
       "2442                       Army Training Network (ATN)     408\n",
       "8139                         Defense Commissary Agency     387"
      ],
      "text/html": [
       "<div>\n",
       "<style scoped>\n",
       "    .dataframe tbody tr th:only-of-type {\n",
       "        vertical-align: middle;\n",
       "    }\n",
       "\n",
       "    .dataframe tbody tr th {\n",
       "        vertical-align: top;\n",
       "    }\n",
       "\n",
       "    .dataframe thead th {\n",
       "        text-align: right;\n",
       "    }\n",
       "</style>\n",
       "<table border=\"1\" class=\"dataframe\">\n",
       "  <thead>\n",
       "    <tr style=\"text-align: right;\">\n",
       "      <th></th>\n",
       "      <th>page_name</th>\n",
       "      <th>Degree</th>\n",
       "    </tr>\n",
       "  </thead>\n",
       "  <tbody>\n",
       "    <tr>\n",
       "      <th>16895</th>\n",
       "      <td>U.S. Army</td>\n",
       "      <td>709</td>\n",
       "    </tr>\n",
       "    <tr>\n",
       "      <th>19743</th>\n",
       "      <td>The White House</td>\n",
       "      <td>678</td>\n",
       "    </tr>\n",
       "    <tr>\n",
       "      <th>21729</th>\n",
       "      <td>The Obama White House</td>\n",
       "      <td>659</td>\n",
       "    </tr>\n",
       "    <tr>\n",
       "      <th>14497</th>\n",
       "      <td>U.S. Army Chaplain Corps</td>\n",
       "      <td>650</td>\n",
       "    </tr>\n",
       "    <tr>\n",
       "      <th>1387</th>\n",
       "      <td>Honolulu District, U.S. Army Corps of Engineers</td>\n",
       "      <td>504</td>\n",
       "    </tr>\n",
       "    <tr>\n",
       "      <th>10379</th>\n",
       "      <td>U.S. Department of State</td>\n",
       "      <td>468</td>\n",
       "    </tr>\n",
       "    <tr>\n",
       "      <th>19347</th>\n",
       "      <td>FEMA Federal Emergency Management Agency</td>\n",
       "      <td>448</td>\n",
       "    </tr>\n",
       "    <tr>\n",
       "      <th>21120</th>\n",
       "      <td>European Parliament</td>\n",
       "      <td>417</td>\n",
       "    </tr>\n",
       "    <tr>\n",
       "      <th>2442</th>\n",
       "      <td>Army Training Network (ATN)</td>\n",
       "      <td>408</td>\n",
       "    </tr>\n",
       "    <tr>\n",
       "      <th>8139</th>\n",
       "      <td>Defense Commissary Agency</td>\n",
       "      <td>387</td>\n",
       "    </tr>\n",
       "  </tbody>\n",
       "</table>\n",
       "</div>"
      ]
     },
     "execution_count": 41,
     "metadata": {},
     "output_type": "execute_result"
    }
   ],
   "execution_count": 41
  },
  {
   "metadata": {},
   "cell_type": "markdown",
   "source": "#### Firmy",
   "id": "d6e788eb30875c9"
  },
  {
   "metadata": {
    "ExecuteTime": {
     "end_time": "2024-12-15T23:21:53.211845800Z",
     "start_time": "2024-12-15T23:09:31.021374Z"
    }
   },
   "cell_type": "code",
   "source": "print_top_ten('company')",
   "id": "f89804f7caa1ad08",
   "outputs": [
    {
     "data": {
      "text/plain": [
       "                                               page_name  Degree\n",
       "701                                             Facebook     380\n",
       "11332  NASA - National Aeronautics and Space Administ...     328\n",
       "17983                                                CNN     167\n",
       "17392                                            Walmart     124\n",
       "12677                                 Whole Foods Market     120\n",
       "2597                                           Microsoft     112\n",
       "13095     Army Knowledge Online/Defense Knowledge Online     112\n",
       "20810                                          Starbucks     106\n",
       "17523                                             Qantas     102\n",
       "481                             KLM Royal Dutch Airlines      97"
      ],
      "text/html": [
       "<div>\n",
       "<style scoped>\n",
       "    .dataframe tbody tr th:only-of-type {\n",
       "        vertical-align: middle;\n",
       "    }\n",
       "\n",
       "    .dataframe tbody tr th {\n",
       "        vertical-align: top;\n",
       "    }\n",
       "\n",
       "    .dataframe thead th {\n",
       "        text-align: right;\n",
       "    }\n",
       "</style>\n",
       "<table border=\"1\" class=\"dataframe\">\n",
       "  <thead>\n",
       "    <tr style=\"text-align: right;\">\n",
       "      <th></th>\n",
       "      <th>page_name</th>\n",
       "      <th>Degree</th>\n",
       "    </tr>\n",
       "  </thead>\n",
       "  <tbody>\n",
       "    <tr>\n",
       "      <th>701</th>\n",
       "      <td>Facebook</td>\n",
       "      <td>380</td>\n",
       "    </tr>\n",
       "    <tr>\n",
       "      <th>11332</th>\n",
       "      <td>NASA - National Aeronautics and Space Administ...</td>\n",
       "      <td>328</td>\n",
       "    </tr>\n",
       "    <tr>\n",
       "      <th>17983</th>\n",
       "      <td>CNN</td>\n",
       "      <td>167</td>\n",
       "    </tr>\n",
       "    <tr>\n",
       "      <th>17392</th>\n",
       "      <td>Walmart</td>\n",
       "      <td>124</td>\n",
       "    </tr>\n",
       "    <tr>\n",
       "      <th>12677</th>\n",
       "      <td>Whole Foods Market</td>\n",
       "      <td>120</td>\n",
       "    </tr>\n",
       "    <tr>\n",
       "      <th>2597</th>\n",
       "      <td>Microsoft</td>\n",
       "      <td>112</td>\n",
       "    </tr>\n",
       "    <tr>\n",
       "      <th>13095</th>\n",
       "      <td>Army Knowledge Online/Defense Knowledge Online</td>\n",
       "      <td>112</td>\n",
       "    </tr>\n",
       "    <tr>\n",
       "      <th>20810</th>\n",
       "      <td>Starbucks</td>\n",
       "      <td>106</td>\n",
       "    </tr>\n",
       "    <tr>\n",
       "      <th>17523</th>\n",
       "      <td>Qantas</td>\n",
       "      <td>102</td>\n",
       "    </tr>\n",
       "    <tr>\n",
       "      <th>481</th>\n",
       "      <td>KLM Royal Dutch Airlines</td>\n",
       "      <td>97</td>\n",
       "    </tr>\n",
       "  </tbody>\n",
       "</table>\n",
       "</div>"
      ]
     },
     "execution_count": 42,
     "metadata": {},
     "output_type": "execute_result"
    }
   ],
   "execution_count": 42
  },
  {
   "metadata": {},
   "cell_type": "markdown",
   "source": "# Vizualizace",
   "id": "2b88cbad88abe85e"
  },
  {
   "metadata": {},
   "cell_type": "markdown",
   "source": "## Nastavení cesty pro uložení obrázků",
   "id": "4c1a16183cf1403b"
  },
  {
   "metadata": {
    "ExecuteTime": {
     "end_time": "2024-12-15T23:21:53.211845800Z",
     "start_time": "2024-12-15T23:09:31.126699Z"
    }
   },
   "cell_type": "code",
   "source": [
    "save_path = '../results/project/'\n",
    "\n",
    "if not os.path.exists(save_path):\n",
    "    print(f\"Creating directory {save_path}\")\n",
    "    os.makedirs(save_path)\n",
    "else:\n",
    "    print(f\"Directory {save_path} already exists\")"
   ],
   "id": "619fbc557982e69a",
   "outputs": [
    {
     "name": "stdout",
     "output_type": "stream",
     "text": [
      "Directory ../results/project/ already exists\n"
     ]
    }
   ],
   "execution_count": 43
  },
  {
   "metadata": {},
   "cell_type": "markdown",
   "source": "## Distribuce stupňů",
   "id": "beb19151d150cef6"
  },
  {
   "metadata": {},
   "cell_type": "markdown",
   "source": "### Distribuce stupňů v lineárním měřítku a logaritmickém měřítku",
   "id": "17096745a41c9b5d"
  },
  {
   "metadata": {
    "ExecuteTime": {
     "end_time": "2024-12-15T23:21:53.211845800Z",
     "start_time": "2024-12-15T23:14:29.267945Z"
    }
   },
   "cell_type": "code",
   "source": [
    "degree_values = gephi_df['Degree'].value_counts().sort_index()\n",
    "\n",
    "plt.figure(figsize=(12, 6))\n",
    "\n",
    "# Linear scale plot\n",
    "plt.subplot(1, 2, 1)\n",
    "plt.step(degree_values.index, degree_values.values, where='mid', color='b', linewidth=2)\n",
    "plt.title('Distribuce stupňů')\n",
    "plt.xlabel('Stupeň')\n",
    "plt.ylabel('Počet uzlů')\n",
    "\n",
    "# Log scale plot\n",
    "plt.subplot(1, 2, 2)\n",
    "plt.step(degree_values.index, degree_values.values, where='mid', color='b', linewidth=2)\n",
    "plt.yscale('log')\n",
    "plt.title('Distribuce stupňů v logaritmickém měřítku')\n",
    "plt.xlabel('Stupeň')\n",
    "\n",
    "plt.tight_layout()\n",
    "plt.savefig(save_path + 'degree_distribution.png')\n",
    "plt.show()"
   ],
   "id": "bcc16c91c8a9209",
   "outputs": [
    {
     "data": {
      "text/plain": [
       "<Figure size 1200x600 with 2 Axes>"
      ],
      "image/png": "[encoded data removed]"
     },
     "metadata": {},
     "output_type": "display_data"
    }
   ],
   "execution_count": 73
  },
  {
   "metadata": {},
   "cell_type": "markdown",
   "source": "### Distribuce stupňů v komunitách",
   "id": "ab7b60cf05d866f0"
  },
  {
   "metadata": {
    "ExecuteTime": {
     "end_time": "2024-12-15T23:21:53.211845800Z",
     "start_time": "2024-12-15T23:14:46.503138Z"
    }
   },
   "cell_type": "code",
   "source": [
    "plt.figure(figsize=(12, 6))\n",
    "\n",
    "plt.hist(community_sizes, bins=50, edgecolor='black', color='b')\n",
    "plt.title('Distribuce stupňů v komunitách')\n",
    "plt.xlabel('Počet uzlů')\n",
    "plt.ylabel('Počet komunit')\n",
    "\n",
    "plt.tight_layout()\n",
    "plt.savefig(save_path + 'degree_distribution_communities.png')\n",
    "plt.show()"
   ],
   "id": "e9a435c0fa1bcaba",
   "outputs": [
    {
     "data": {
      "text/plain": [
       "<Figure size 1200x600 with 1 Axes>"
      ],
      "image/png": "[encoded data removed]"
     },
     "metadata": {},
     "output_type": "display_data"
    }
   ],
   "execution_count": 74
  },
  {
   "metadata": {},
   "cell_type": "markdown",
   "source": "## Shlukovací koeficient",
   "id": "173817e6f4262fbe"
  },
  {
   "metadata": {
    "ExecuteTime": {
     "end_time": "2024-12-15T23:21:53.211845800Z",
     "start_time": "2024-12-15T23:12:08.297927Z"
    }
   },
   "cell_type": "code",
   "source": [
    "import matplotlib.pyplot as plt\n",
    "import pandas as pd\n",
    "import networkx as nx\n",
    "\n",
    "# Create 1x2 grid of subplots (side by side)\n",
    "fig, ax = plt.subplots(1, 2, figsize=(14, 6))\n",
    "\n",
    "# Plot Degree Distribution\n",
    "degree_values = list(dict(G.degree()).values())\n",
    "degree_values_series = pd.Series(degree_values)\n",
    "degree_values_counts = degree_values_series.value_counts().sort_index()\n",
    "clustering_coeffs = nx.clustering(G)\n",
    "degrees = list(dict(G.degree()).values())\n",
    "\n",
    "ax[0].hist(list(clustering_coeffs.values()), bins=20, edgecolor='black', color='b')\n",
    "ax[0].set_title('Distribuce shlukovacího koeficientu')\n",
    "ax[0].set_xlabel('Shlukovací koeficient')\n",
    "ax[0].set_ylabel('Počet uzlů')\n",
    "\n",
    "# Calculate Average Clustering Coefficient by Degree\n",
    "avg_cc_by_degree = {}\n",
    "for degree in set(degrees):\n",
    "    nodes_with_degree = [n for n, d in G.degree() if d == degree]\n",
    "    avg_cc_by_degree[degree] = sum(clustering_coeffs[n] for n in nodes_with_degree) / len(nodes_with_degree)\n",
    "\n",
    "# Plot Average Clustering Coefficient by Degree\n",
    "degree_vals, cc_vals = zip(*sorted(avg_cc_by_degree.items()))\n",
    "# skip zero degrees since we have no data for them, and it would mess up the plot\n",
    "degree_vals = degree_vals[1:]\n",
    "cc_vals = cc_vals[1:]\n",
    "ax[1].plot(degree_vals, cc_vals, 'bo-')\n",
    "ax[1].set_title('Průměrný shlukovací koeficient podle stupně')\n",
    "ax[1].set_xlabel('Stupeň')\n",
    "ax[1].set_ylabel('Průměrný shlukovací koeficient')\n",
    "\n",
    "plt.tight_layout()\n",
    "plt.savefig(save_path + 'clustering_coefficient.png')\n",
    "plt.show()"
   ],
   "id": "59269700dc57222f",
   "outputs": [
    {
     "data": {
      "text/plain": [
       "<Figure size 1400x600 with 2 Axes>"
      ],
      "image/png": "[encoded data removed]"
     },
     "metadata": {},
     "output_type": "display_data"
    }
   ],
   "execution_count": 65
  },
  {
   "metadata": {},
   "cell_type": "markdown",
   "source": "### Distribuce stupňů v jednotlivých kategoriích",
   "id": "2ee381438399565e"
  },
  {
   "metadata": {
    "ExecuteTime": {
     "end_time": "2024-12-15T23:21:53.211845800Z",
     "start_time": "2024-12-15T23:21:34.601959Z"
    }
   },
   "cell_type": "code",
   "source": [
    "# Create 2x2 grid of subplots of degree distributions in each page_type\n",
    "fig, ax = plt.subplots(2, 2, figsize=(16, 12))\n",
    "\n",
    "# Drop rows with NaN values in 'page_type' and 'Degree' columns\n",
    "gephi_df_clean = gephi_df.dropna(subset=['page_type', 'Degree'])\n",
    "\n",
    "page_type_dict_mapping = {\n",
    "    'tvshow': 'Televizní pořady',\n",
    "    'politician': 'Politici',\n",
    "    'government': 'Vládní organizace',\n",
    "    'company': 'Firmy'\n",
    "}\n",
    "\n",
    "# Plot Degree Distribution for each page_type\n",
    "for i, page_type in enumerate(gephi_df_clean['page_type'].unique()):\n",
    "    page_type_df = gephi_df_clean[gephi_df_clean['page_type'] == page_type]\n",
    "    degree_values = list(page_type_df['Degree'])\n",
    "\n",
    "    ax[i // 2, i % 2].hist(degree_values, bins=20, edgecolor='black', color='b')\n",
    "    ax[i // 2, i % 2].set_title(f'Distribuce stupňů pro {page_type_dict_mapping[page_type]}')\n",
    "    ax[i // 2, i % 2].set_xlabel('Stupeň')\n",
    "    ax[i // 2, i % 2].set_ylabel('Počet uzlů')\n",
    "\n",
    "plt.tight_layout()\n",
    "plt.savefig(save_path + 'degree_distribution_by_category.png')\n",
    "plt.show()"
   ],
   "id": "e993004739e7be49",
   "outputs": [
    {
     "data": {
      "text/plain": [
       "<Figure size 1600x1200 with 4 Axes>"
      ],
      "image/png": "[encoded data removed]"
     },
     "metadata": {},
     "output_type": "display_data"
    }
   ],
   "execution_count": 83
  }
 ],
 "metadata": {
  "kernelspec": {
   "display_name": "Python 3",
   "language": "python",
   "name": "python3"
  },
  "language_info": {
   "codemirror_mode": {
    "name": "ipython",
    "version": 2
   },
   "file_extension": ".py",
   "mimetype": "text/x-python",
   "name": "python",
   "nbconvert_exporter": "python",
   "pygments_lexer": "ipython2",
   "version": "2.7.6"
  }
 },
 "nbformat": 4,
 "nbformat_minor": 5
}
